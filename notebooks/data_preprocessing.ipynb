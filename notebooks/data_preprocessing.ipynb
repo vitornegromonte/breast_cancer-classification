{
 "cells": [
  {
   "cell_type": "code",
   "execution_count": 2,
   "metadata": {},
   "outputs": [],
   "source": [
    "import numpy as np\n",
    "import pandas as pd"
   ]
  },
  {
   "cell_type": "markdown",
   "metadata": {},
   "source": [
    "Código gerado pelo chatGPt apenas para ideação de como fazer a extração dos dados"
   ]
  },
  {
   "cell_type": "code",
   "execution_count": null,
   "metadata": {},
   "outputs": [],
   "source": [
    "import os\n",
    "import numpy as np\n",
    "import nibabel as nib\n",
    "from tensorflow.keras.utils import to_categorical\n",
    "from sklearn.model_selection import train_test_split\n",
    "\n",
    "# Define paths\n",
    "data_dir = 'path/to/your/data/raw_data/training dataset'\n",
    "image_dir = 'images'\n",
    "contour_dir = 'contours'\n",
    "\n",
    "# Collect file paths\n",
    "image_paths = []\n",
    "contour_paths = []\n",
    "\n",
    "for case_folder in os.listdir(data_dir):\n",
    "    case_folder_path = os.path.join(data_dir, case_folder)\n",
    "    \n",
    "    if os.path.isdir(case_folder_path):\n",
    "        image_path = os.path.join(case_folder_path, image_dir, f'Case num {case_folder}.nii.gz')\n",
    "        contour_path = os.path.join(case_folder_path, contour_dir)\n",
    "        \n",
    "        if os.path.exists(image_path) and os.path.exists(contour_path):\n",
    "            image_paths.append(image_path)\n",
    "            contour_paths.append(contour_path)\n",
    "\n",
    "# Split data into training and validation sets\n",
    "train_image_paths, val_image_paths, train_contour_paths, val_contour_paths = train_test_split(\n",
    "    image_paths, contour_paths, test_size=0.2, random_state=42\n",
    ")\n",
    "\n",
    "# Define a function to load and preprocess data\n",
    "def load_and_preprocess_data(image_paths, contour_paths):\n",
    "    images = []\n",
    "    contours = []\n",
    "\n",
    "    for img_path, cnt_path in zip(image_paths, contour_paths):\n",
    "        # Load image\n",
    "        img = nib.load(img_path).get_fdata()\n",
    "        \n",
    "        # Load contour data (you might need to adapt this part based on your actual contour data format)\n",
    "        # Example: Load contour as binary mask\n",
    "        cnt = np.zeros_like(img)\n",
    "        for cnt_file in os.listdir(cnt_path):\n",
    "            cnt_file_path = os.path.join(cnt_path, cnt_file)\n",
    "            cnt_slice = nib.load(cnt_file_path).get_fdata()\n",
    "            cnt += cnt_slice\n",
    "\n",
    "        images.append(img)\n",
    "        contours.append(cnt)\n",
    "\n",
    "    images = np.array(images)\n",
    "    contours = np.array(contours)\n",
    "\n",
    "    # Normalize images and convert contours to binary (if needed)\n",
    "    images /= np.max(images)\n",
    "    contours = (contours > 0).astype(np.uint8)\n",
    "\n",
    "    return images, contours\n",
    "\n",
    "# Load training and validation data\n",
    "train_images, train_contours = load_and_preprocess_data(train_image_paths, train_contour_paths)\n",
    "val_images, val_contours = load_and_preprocess_data(val_image_paths, val_contour_paths)\n",
    "\n",
    "# Optional: Convert contours to categorical (if you have multiple classes)\n",
    "train_contours_categorical = to_categorical(train_contours)\n",
    "val_contours_categorical = to_categorical(val_contours)\n"
   ]
  }
 ],
 "metadata": {
  "kernelspec": {
   "display_name": "Python 3",
   "language": "python",
   "name": "python3"
  },
  "language_info": {
   "codemirror_mode": {
    "name": "ipython",
    "version": 3
   },
   "file_extension": ".py",
   "mimetype": "text/x-python",
   "name": "python",
   "nbconvert_exporter": "python",
   "pygments_lexer": "ipython3",
   "version": "3.11.5"
  }
 },
 "nbformat": 4,
 "nbformat_minor": 2
}
